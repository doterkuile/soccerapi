{
 "cells": [
  {
   "cell_type": "code",
   "execution_count": 1,
   "metadata": {
    "collapsed": true,
    "pycharm": {
     "name": "#%%\n"
    }
   },
   "outputs": [],
   "source": [
    "from soccerapi.api import ApiUnibet\n",
    "import pandas as pd\n",
    "import time\n",
    "import matplotlib.pyplot as plt\n",
    "# import jupyterplot as ProgressPlot\n",
    "from IPython.display import display, clear_output\n",
    "\n",
    "%matplotlib inline"
   ]
  },
  {
   "cell_type": "code",
   "execution_count": 2,
   "outputs": [
    {
     "name": "stdout",
     "output_type": "stream",
     "text": [
      "Empty DataFrame\n",
      "Columns: [Home, Draw, Away, Time]\n",
      "Index: []\n"
     ]
    },
    {
     "data": {
      "text/plain": "[{'matchId': 1006984953,\n  'homeTeam': 'Shanghai SIPG',\n  'awayTeam': 'Jiangsu Suning'},\n {'matchId': 1007001865,\n  'homeTeam': 'Qingdao Huanghai',\n  'awayTeam': 'Wuhan Zall FC'},\n {'matchId': 1007001866,\n  'homeTeam': 'Shijiazhuang Ever Bright FC',\n  'awayTeam': 'Shenzhen FC'},\n {'matchId': 1007011167,\n  'homeTeam': 'Team RusPro (R11) Esports',\n  'awayTeam': 'Raticate 522 (PSG) Esports'},\n {'matchId': 1007011234,\n  'homeTeam': 'Confession (CFi) Esports',\n  'awayTeam': 'Fints (FIN) Esports'},\n {'matchId': 1007011233,\n  'homeTeam': 'Team RusPro (R11) Esports',\n  'awayTeam': 'Megapolice (MEG) Esports'},\n {'matchId': 1007010770,\n  'homeTeam': 'Raticate 522 (PSG) Esports',\n  'awayTeam': 'Fints (FIN) Esports'},\n {'matchId': 1006992980,\n  'homeTeam': 'Olympic FC Brisbane',\n  'awayTeam': 'Sunshine Coast Wanderers SC'},\n {'matchId': 1007011236,\n  'homeTeam': 'Megapolice (MEG) Esports',\n  'awayTeam': 'Raticate 522 (PSG) Esports'},\n {'matchId': 1007010769,\n  'homeTeam': 'Confession (CFi) Esports',\n  'awayTeam': 'Team RusPro (R11) Esports'},\n {'matchId': 1006978406, 'homeTeam': 'Paro United', 'awayTeam': 'Paro FC'},\n {'matchId': 1006984521,\n  'homeTeam': 'Guangzhou Evergrande Taobao',\n  'awayTeam': 'Beijing Guoan'},\n {'matchId': 1006742150, 'homeTeam': 'FC Noah', 'awayTeam': 'Alashkert'},\n {'matchId': 1006915308,\n  'homeTeam': 'FC Novosibirsk',\n  'awayTeam': 'Dynamo Barnaul'},\n {'matchId': 1006858811,\n  'homeTeam': 'Coventry City Reserves',\n  'awayTeam': 'Bristol City Reserves'},\n {'matchId': 1006818025,\n  'homeTeam': 'Wolverhampton Wanderers Reserves',\n  'awayTeam': 'Fulham Reserves'},\n {'matchId': 1006980344,\n  'homeTeam': 'Al Salmiyah',\n  'awayTeam': 'Al Yarmouk (KWT)'},\n {'matchId': 1006979441, 'homeTeam': 'Al Qadsia', 'awayTeam': 'Al-Fahaheel'},\n {'matchId': 1007011841,\n  'homeTeam': 'Al Riffa',\n  'awayTeam': 'Al Ahli (Manama)'},\n {'matchId': 1007011840, 'homeTeam': 'Al Hala', 'awayTeam': 'Essa Town'},\n {'matchId': 1007011842, 'homeTeam': 'Malkiya', 'awayTeam': 'Sitra'},\n {'matchId': 1007012021,\n  'homeTeam': 'Deportes Vallenar',\n  'awayTeam': 'Deportes Colina'},\n {'matchId': 1006767592, 'homeTeam': 'UD Logroñés', 'awayTeam': 'Alcorcón'},\n {'matchId': 1006980116, 'homeTeam': 'NŠ Mura', 'awayTeam': 'NK Celje'},\n {'matchId': 1006980115, 'homeTeam': 'Qrendi FC', 'awayTeam': 'Fgura United'},\n {'matchId': 1006894140,\n  'homeTeam': 'Botev Vratsa',\n  'awayTeam': 'Etar 1924 Veliko Tarnovo'},\n {'matchId': 1006993512, 'homeTeam': 'Cusco FC', 'awayTeam': 'Sport Boys'},\n {'matchId': 1006998794,\n  'homeTeam': 'El Tanque Sisley U19',\n  'awayTeam': 'Basanez U19'},\n {'matchId': 1006770938,\n  'homeTeam': 'Nea Salamis Famagusta',\n  'awayTeam': 'Ethnikos Achnas'},\n {'matchId': 1006980345,\n  'homeTeam': 'Al Jahra',\n  'awayTeam': 'Al Sahel SC (KWT)'},\n {'matchId': 1006979442, 'homeTeam': 'Al Shabab (KWT)', 'awayTeam': 'Khaitan'},\n {'matchId': 1006748102,\n  'homeTeam': 'Antalyaspor A.Ş.',\n  'awayTeam': 'Fenerbahçe'},\n {'matchId': 1006965717,\n  'homeTeam': 'Warta Poznań',\n  'awayTeam': 'Legia Warszawa'},\n {'matchId': 1006767599,\n  'homeTeam': 'Sporting de Gijón',\n  'awayTeam': 'CD Castellon'},\n {'matchId': 1006964397,\n  'homeTeam': 'Sektzia Nes Tziona',\n  'awayTeam': 'Hapoel Kfar Shalem'},\n {'matchId': 1006964396,\n  'homeTeam': 'Hapoel Irony Nir Ramat Hasharon',\n  'awayTeam': 'Hapoel Umm Al Fahm'},\n {'matchId': 1006964398,\n  'homeTeam': 'Hapoel Rishon LeZion',\n  'awayTeam': 'Beitar Tel Aviv Bat Yam'},\n {'matchId': 1006964395,\n  'homeTeam': 'Hapoel Ramat Gan',\n  'awayTeam': 'Hapoel Petach Tikva'},\n {'matchId': 1006964394,\n  'homeTeam': 'Hapoel Iksal Imad',\n  'awayTeam': 'Kfar Qasem FC'},\n {'matchId': 1006964401,\n  'homeTeam': 'Hapoel Acre',\n  'awayTeam': 'Hapoel Afula'},\n {'matchId': 1006964403,\n  'homeTeam': 'Maccabi Ahi Nazareth',\n  'awayTeam': 'Hapoel Nof HaGalil F.C.'},\n {'matchId': 1006715500, 'homeTeam': 'Fulham', 'awayTeam': 'West Bromwich'},\n {'matchId': 1006651619,\n  'homeTeam': 'Jong AZ Alkmaar',\n  'awayTeam': 'SC Telstar'},\n {'matchId': 1007011145,\n  'homeTeam': 'Clube Atlético Paranaense U20',\n  'awayTeam': 'CR Vasco da Gama-RJ U20'},\n {'matchId': 1006914940, 'homeTeam': 'Norrby IF', 'awayTeam': 'IK Brage'},\n {'matchId': 1006914941, 'homeTeam': 'GAIS', 'awayTeam': 'AFC Eskilstuna'},\n {'matchId': 1006914942,\n  'homeTeam': 'Helsingborgs IF',\n  'awayTeam': 'Malmö FF'},\n {'matchId': 1006914943, 'homeTeam': 'AIK', 'awayTeam': 'Varbergs BoIS'},\n {'matchId': 1006980473,\n  'homeTeam': 'Gremio Foot-Ball Porto Alegrense U23',\n  'awayTeam': 'Fortaleza-CE U23'},\n {'matchId': 1006858807,\n  'homeTeam': 'Nottingham Forest Reserves',\n  'awayTeam': 'Colchester United FC Reserves'},\n {'matchId': 1006992966,\n  'homeTeam': 'La Equidad (W)',\n  'awayTeam': 'CD Los Milonarios (W)'},\n {'matchId': 1006690979, 'homeTeam': 'SønderjyskE', 'awayTeam': 'AGF Aarhus'},\n {'matchId': 1006915309,\n  'homeTeam': '1. FC Kaiserslautern',\n  'awayTeam': 'Hansa Rostock'},\n {'matchId': 1006979951,\n  'homeTeam': 'Sport Recife-PE (W)',\n  'awayTeam': 'União Desportiva Alagoana (W)'},\n {'matchId': 1006993513,\n  'homeTeam': 'Deportivo Municipal',\n  'awayTeam': 'Carlos A. Manucci'},\n {'matchId': 1006957881,\n  'homeTeam': 'Hapoel Beer Sheva',\n  'awayTeam': 'Bnei Sakhnin'},\n {'matchId': 1006980497, 'homeTeam': 'St. Andrews', 'awayTeam': 'Qormi FC'},\n {'matchId': 1006992963,\n  'homeTeam': 'CD America de Cali (W)',\n  'awayTeam': 'Atletico Junior (W)'},\n {'matchId': 1006756411, 'homeTeam': 'S.C. Braga', 'awayTeam': 'Famalicão'},\n {'matchId': 1006957882,\n  'homeTeam': 'Maccabi Haifa',\n  'awayTeam': 'Maccabi Tel Aviv'},\n {'matchId': 1006854516,\n  'homeTeam': 'Znicz Pruszków',\n  'awayTeam': 'Lech Poznań'},\n {'matchId': 1006690749, 'homeTeam': 'Chindia Târgovişte', 'awayTeam': 'FCSB'},\n {'matchId': 1006769675, 'homeTeam': 'Grasshopper', 'awayTeam': 'Thun'},\n {'matchId': 1006818021,\n  'homeTeam': 'Derby County Reserves',\n  'awayTeam': 'West Ham Reserves'},\n {'matchId': 1006980547, 'homeTeam': 'Aluminij', 'awayTeam': 'Maribor'},\n {'matchId': 1006690809,\n  'homeTeam': 'TSG Hoffenheim',\n  'awayTeam': '1. FC Union Berlin'},\n {'matchId': 1006773422, 'homeTeam': 'Hellas Verona', 'awayTeam': 'Benevento'},\n {'matchId': 1006945496, 'homeTeam': 'Zulte Waregem', 'awayTeam': 'Kortrijk'},\n {'matchId': 1006952815,\n  'homeTeam': 'Bradford Park Avenue',\n  'awayTeam': 'Boston United'},\n {'matchId': 1006781252, 'homeTeam': 'Amiens', 'awayTeam': 'Toulouse'},\n {'matchId': 1006838897, 'homeTeam': 'Cesena', 'awayTeam': 'Padova'},\n {'matchId': 1006651612,\n  'homeTeam': 'Jong PSV Eindhoven',\n  'awayTeam': 'Cambuur Leeuwarden'},\n {'matchId': 1006980668, 'homeTeam': 'Lecce', 'awayTeam': 'Pescara'},\n {'matchId': 1006715499,\n  'homeTeam': 'Leeds United',\n  'awayTeam': 'Leicester City'},\n {'matchId': 1006995077, 'homeTeam': 'Málaga', 'awayTeam': 'Espanyol'},\n {'matchId': 1006915302,\n  'homeTeam': 'Palmeiras-SP',\n  'awayTeam': 'Atlético Mineiro-MG'},\n {'matchId': 1006766887, 'homeTeam': 'Villarreal', 'awayTeam': 'Valladolid'},\n {'matchId': 1007002153,\n  'homeTeam': 'Racing Club de Montevideo',\n  'awayTeam': 'Tacuarembó'},\n {'matchId': 1006993514, 'homeTeam': 'FBC Melgar', 'awayTeam': 'Alianza Lima'},\n {'matchId': 1006861563, 'homeTeam': 'Llaneros F.C.', 'awayTeam': 'Tigres FC'},\n {'matchId': 1006861562,\n  'homeTeam': 'Real Cartagena +++',\n  'awayTeam': 'Atlético Huila'},\n {'matchId': 1006861561,\n  'homeTeam': 'Orsomarso',\n  'awayTeam': 'Atlético FC Cali'},\n {'matchId': 1006861567,\n  'homeTeam': 'Real San Andrés',\n  'awayTeam': 'Leones FC'},\n {'matchId': 1006861566,\n  'homeTeam': 'Boca Juniors de Cali',\n  'awayTeam': 'Cortuluá'},\n {'matchId': 1006861565,\n  'homeTeam': 'Deportes Quindío',\n  'awayTeam': 'Barranquilla FC'},\n {'matchId': 1006901931,\n  'homeTeam': 'Ponte Preta-SP',\n  'awayTeam': 'Figueirense-SC'},\n {'matchId': 1006756412, 'homeTeam': 'Boavista', 'awayTeam': 'Benfica'},\n {'matchId': 1006994019,\n  'homeTeam': 'Ciervos FC',\n  'awayTeam': 'Deportivo CAFESSA'},\n {'matchId': 1006993530, 'homeTeam': 'Sol de América', 'awayTeam': 'Guaireña'},\n {'matchId': 1007002156,\n  'homeTeam': 'Central Español',\n  'awayTeam': 'CA Atenas de San Carlos'},\n {'matchId': 1006680413,\n  'homeTeam': 'Guadalajara (W)',\n  'awayTeam': 'Pachuca (W)'},\n {'matchId': 1006915310, 'homeTeam': 'Grêmio-RS', 'awayTeam': 'Bragantino-SP'},\n {'matchId': 1006816869,\n  'homeTeam': 'Boyacá Chicó',\n  'awayTeam': 'Atlético Bucaramanga'},\n {'matchId': 1006966381,\n  'homeTeam': 'Macará',\n  'awayTeam': 'Guayaquil City FC'},\n {'matchId': 1007002197,\n  'homeTeam': 'Rosario Central',\n  'awayTeam': 'Godoy Cruz'},\n {'matchId': 1006816862,\n  'homeTeam': 'Deportivo Pereira',\n  'awayTeam': 'América de Cali'},\n {'matchId': 1006781607, 'homeTeam': 'Club León', 'awayTeam': 'Santos Laguna'},\n {'matchId': 1006836981,\n  'homeTeam': 'Vanraure Hachinohe',\n  'awayTeam': 'Roasso Kumamoto'},\n {'matchId': 1007009533,\n  'homeTeam': 'Yokohama F Marinos',\n  'awayTeam': 'Kashima Antlers'},\n {'matchId': 1006782430,\n  'homeTeam': 'Vegalta Sendai',\n  'awayTeam': 'Kashiwa Reysol'},\n {'matchId': 1006782428,\n  'homeTeam': 'Sagan Tosu',\n  'awayTeam': 'Nagoya Grampus Eight'},\n {'matchId': 1006782434,\n  'homeTeam': 'SC Sagamihara',\n  'awayTeam': 'Fujieda MYFC'},\n {'matchId': 1006782439,\n  'homeTeam': 'Azul Claro Numazu',\n  'awayTeam': 'Gainare Tottori'},\n {'matchId': 1006782436,\n  'homeTeam': 'Blaublitz Akita',\n  'awayTeam': 'Kamatamare Sanuki'},\n {'matchId': 1006782437,\n  'homeTeam': 'FC Imabari',\n  'awayTeam': 'Gamba Osaka U23'},\n {'matchId': 1006820564,\n  'homeTeam': 'Kataller Toyama',\n  'awayTeam': 'Kagoshima United'},\n {'matchId': 1006782429,\n  'homeTeam': 'Cerezo Osaka',\n  'awayTeam': 'Gamba Osaka'},\n {'matchId': 1006782435,\n  'homeTeam': 'Grulla Morioka FC',\n  'awayTeam': 'Fukushima United FC'},\n {'matchId': 1006782432,\n  'homeTeam': 'Kawasaki Frontale',\n  'awayTeam': 'Consadole Sapporo'},\n {'matchId': 1006850075,\n  'homeTeam': 'Shimizu S-Pulse',\n  'awayTeam': 'Vissel Kobe'},\n {'matchId': 1006957468,\n  'homeTeam': 'Yokohama FC',\n  'awayTeam': 'Oita Trinita'},\n {'matchId': 1006782427,\n  'homeTeam': 'Sanfrecce Hiroshima',\n  'awayTeam': 'Urawa Red Diamonds'}]"
     },
     "execution_count": 2,
     "metadata": {},
     "output_type": "execute_result"
    }
   ],
   "source": [
    "api = ApiUnibet()\n",
    "# url = 'https://www.unibet.com/betting/sports/filter/football/netherlands/knvb_beker/matches'\n",
    "url = 'https://www.unibet.com/betting/sports/filter/football/netherlands/eerste_divisie/matches'\n",
    "api.getMatchIds()"
   ],
   "metadata": {
    "collapsed": false,
    "pycharm": {
     "name": "#%%\n"
    }
   }
  },
  {
   "cell_type": "code",
   "execution_count": 4,
   "outputs": [],
   "source": [
    "homeTeam = []\n",
    "awayTeam = []\n",
    "draw     = []\n",
    "matchTime = []\n",
    "matchId = 1006651619\n",
    "odds = api.parseLiveData(url, matchId)\n",
    "df = pd.DataFrame.from_dict(odds,orient='index')"
   ],
   "metadata": {
    "collapsed": false,
    "pycharm": {
     "name": "#%%\n"
    }
   }
  },
  {
   "cell_type": "code",
   "execution_count": 20,
   "outputs": [
    {
     "data": {
      "text/plain": "{'time': 51, '1': 71000, 'X': 23000, '2': None}"
     },
     "execution_count": 20,
     "metadata": {},
     "output_type": "execute_result"
    }
   ],
   "source": [
    "odds"
   ],
   "metadata": {
    "collapsed": false,
    "pycharm": {
     "name": "#%%\n"
    }
   }
  },
  {
   "cell_type": "code",
   "execution_count": 32,
   "outputs": [
    {
     "data": {
      "text/plain": "<Figure size 432x288 with 1 Axes>",
      "image/png": "[encoded data removed]"
     },
     "metadata": {},
     "output_type": "display_data"
    }
   ],
   "source": [
    "fig = plt.figure()\n",
    "axes.clear()\n",
    "axes = fig.add_axes([0.1, 0.1, 0.8, 0.8])\n",
    "odds['1'] = 2\n",
    "# homePlot = axes.plot(matchTime, homeTeam)\n",
    "for i in range(30):\n",
    "    try:\n",
    "        homeTeam.append(odds['1'])\n",
    "        matchTime.append(i)\n",
    "    except KeyError:\n",
    "        continue\n",
    "\n",
    "    axes.cla()\n",
    "    axes.plot(matchTime,homeTeam)\n",
    "    display(fig)\n",
    "    clear_output(wait = True)\n",
    "    time.sleep(0.2)\n",
    "    plt.show()"
   ],
   "metadata": {
    "collapsed": false,
    "pycharm": {
     "name": "#%%\n"
    }
   }
  },
  {
   "cell_type": "code",
   "execution_count": 12,
   "outputs": [
    {
     "ename": "TypeError",
     "evalue": "no numeric data to plot",
     "output_type": "error",
     "traceback": [
      "\u001B[0;31m---------------------------------------------------------------------------\u001B[0m",
      "\u001B[0;31mTypeError\u001B[0m                                 Traceback (most recent call last)",
      "\u001B[0;32m<ipython-input-12-7e6656999bda>\u001B[0m in \u001B[0;36m<module>\u001B[0;34m\u001B[0m\n\u001B[1;32m      5\u001B[0m \u001B[0;31m# drawPlot = axes.plot(df[df.index=='time'], df[df.index=='X'], 'r')\u001B[0m\u001B[0;34m\u001B[0m\u001B[0;34m\u001B[0m\u001B[0;34m\u001B[0m\u001B[0m\n\u001B[1;32m      6\u001B[0m \u001B[0;31m# awayPlot = axes.plot(df[df.index=='time'], df[df.index=='2'], 'g')\u001B[0m\u001B[0;34m\u001B[0m\u001B[0;34m\u001B[0m\u001B[0;34m\u001B[0m\u001B[0m\n\u001B[0;32m----> 7\u001B[0;31m \u001B[0mdf\u001B[0m\u001B[0;34m[\u001B[0m\u001B[0mdf\u001B[0m\u001B[0;34m.\u001B[0m\u001B[0mindex\u001B[0m\u001B[0;34m==\u001B[0m\u001B[0;34m'time'\u001B[0m\u001B[0;34m]\u001B[0m\u001B[0;34m.\u001B[0m\u001B[0mplot\u001B[0m\u001B[0;34m(\u001B[0m\u001B[0;34m)\u001B[0m\u001B[0;34m\u001B[0m\u001B[0;34m\u001B[0m\u001B[0m\n\u001B[0m\u001B[1;32m      8\u001B[0m \u001B[0;31m# print(\"hello\")\u001B[0m\u001B[0;34m\u001B[0m\u001B[0;34m\u001B[0m\u001B[0;34m\u001B[0m\u001B[0m\n\u001B[1;32m      9\u001B[0m \u001B[0;31m# print(df)\u001B[0m\u001B[0;34m\u001B[0m\u001B[0;34m\u001B[0m\u001B[0;34m\u001B[0m\u001B[0m\n",
      "\u001B[0;32m~/miniconda3/envs/soccerapi/lib/python3.7/site-packages/pandas/plotting/_core.py\u001B[0m in \u001B[0;36m__call__\u001B[0;34m(self, *args, **kwargs)\u001B[0m\n\u001B[1;32m    947\u001B[0m                     \u001B[0mdata\u001B[0m\u001B[0;34m.\u001B[0m\u001B[0mcolumns\u001B[0m \u001B[0;34m=\u001B[0m \u001B[0mlabel_name\u001B[0m\u001B[0;34m\u001B[0m\u001B[0;34m\u001B[0m\u001B[0m\n\u001B[1;32m    948\u001B[0m \u001B[0;34m\u001B[0m\u001B[0m\n\u001B[0;32m--> 949\u001B[0;31m         \u001B[0;32mreturn\u001B[0m \u001B[0mplot_backend\u001B[0m\u001B[0;34m.\u001B[0m\u001B[0mplot\u001B[0m\u001B[0;34m(\u001B[0m\u001B[0mdata\u001B[0m\u001B[0;34m,\u001B[0m \u001B[0mkind\u001B[0m\u001B[0;34m=\u001B[0m\u001B[0mkind\u001B[0m\u001B[0;34m,\u001B[0m \u001B[0;34m**\u001B[0m\u001B[0mkwargs\u001B[0m\u001B[0;34m)\u001B[0m\u001B[0;34m\u001B[0m\u001B[0;34m\u001B[0m\u001B[0m\n\u001B[0m\u001B[1;32m    950\u001B[0m \u001B[0;34m\u001B[0m\u001B[0m\n\u001B[1;32m    951\u001B[0m     \u001B[0m__call__\u001B[0m\u001B[0;34m.\u001B[0m\u001B[0m__doc__\u001B[0m \u001B[0;34m=\u001B[0m \u001B[0m__doc__\u001B[0m\u001B[0;34m\u001B[0m\u001B[0;34m\u001B[0m\u001B[0m\n",
      "\u001B[0;32m~/miniconda3/envs/soccerapi/lib/python3.7/site-packages/pandas/plotting/_matplotlib/__init__.py\u001B[0m in \u001B[0;36mplot\u001B[0;34m(data, kind, **kwargs)\u001B[0m\n\u001B[1;32m     59\u001B[0m             \u001B[0mkwargs\u001B[0m\u001B[0;34m[\u001B[0m\u001B[0;34m\"ax\"\u001B[0m\u001B[0;34m]\u001B[0m \u001B[0;34m=\u001B[0m \u001B[0mgetattr\u001B[0m\u001B[0;34m(\u001B[0m\u001B[0max\u001B[0m\u001B[0;34m,\u001B[0m \u001B[0;34m\"left_ax\"\u001B[0m\u001B[0;34m,\u001B[0m \u001B[0max\u001B[0m\u001B[0;34m)\u001B[0m\u001B[0;34m\u001B[0m\u001B[0;34m\u001B[0m\u001B[0m\n\u001B[1;32m     60\u001B[0m     \u001B[0mplot_obj\u001B[0m \u001B[0;34m=\u001B[0m \u001B[0mPLOT_CLASSES\u001B[0m\u001B[0;34m[\u001B[0m\u001B[0mkind\u001B[0m\u001B[0;34m]\u001B[0m\u001B[0;34m(\u001B[0m\u001B[0mdata\u001B[0m\u001B[0;34m,\u001B[0m \u001B[0;34m**\u001B[0m\u001B[0mkwargs\u001B[0m\u001B[0;34m)\u001B[0m\u001B[0;34m\u001B[0m\u001B[0;34m\u001B[0m\u001B[0m\n\u001B[0;32m---> 61\u001B[0;31m     \u001B[0mplot_obj\u001B[0m\u001B[0;34m.\u001B[0m\u001B[0mgenerate\u001B[0m\u001B[0;34m(\u001B[0m\u001B[0;34m)\u001B[0m\u001B[0;34m\u001B[0m\u001B[0;34m\u001B[0m\u001B[0m\n\u001B[0m\u001B[1;32m     62\u001B[0m     \u001B[0mplot_obj\u001B[0m\u001B[0;34m.\u001B[0m\u001B[0mdraw\u001B[0m\u001B[0;34m(\u001B[0m\u001B[0;34m)\u001B[0m\u001B[0;34m\u001B[0m\u001B[0;34m\u001B[0m\u001B[0m\n\u001B[1;32m     63\u001B[0m     \u001B[0;32mreturn\u001B[0m \u001B[0mplot_obj\u001B[0m\u001B[0;34m.\u001B[0m\u001B[0mresult\u001B[0m\u001B[0;34m\u001B[0m\u001B[0;34m\u001B[0m\u001B[0m\n",
      "\u001B[0;32m~/miniconda3/envs/soccerapi/lib/python3.7/site-packages/pandas/plotting/_matplotlib/core.py\u001B[0m in \u001B[0;36mgenerate\u001B[0;34m(self)\u001B[0m\n\u001B[1;32m    267\u001B[0m     \u001B[0;32mdef\u001B[0m \u001B[0mgenerate\u001B[0m\u001B[0;34m(\u001B[0m\u001B[0mself\u001B[0m\u001B[0;34m)\u001B[0m\u001B[0;34m:\u001B[0m\u001B[0;34m\u001B[0m\u001B[0;34m\u001B[0m\u001B[0m\n\u001B[1;32m    268\u001B[0m         \u001B[0mself\u001B[0m\u001B[0;34m.\u001B[0m\u001B[0m_args_adjust\u001B[0m\u001B[0;34m(\u001B[0m\u001B[0;34m)\u001B[0m\u001B[0;34m\u001B[0m\u001B[0;34m\u001B[0m\u001B[0m\n\u001B[0;32m--> 269\u001B[0;31m         \u001B[0mself\u001B[0m\u001B[0;34m.\u001B[0m\u001B[0m_compute_plot_data\u001B[0m\u001B[0;34m(\u001B[0m\u001B[0;34m)\u001B[0m\u001B[0;34m\u001B[0m\u001B[0;34m\u001B[0m\u001B[0m\n\u001B[0m\u001B[1;32m    270\u001B[0m         \u001B[0mself\u001B[0m\u001B[0;34m.\u001B[0m\u001B[0m_setup_subplots\u001B[0m\u001B[0;34m(\u001B[0m\u001B[0;34m)\u001B[0m\u001B[0;34m\u001B[0m\u001B[0;34m\u001B[0m\u001B[0m\n\u001B[1;32m    271\u001B[0m         \u001B[0mself\u001B[0m\u001B[0;34m.\u001B[0m\u001B[0m_make_plot\u001B[0m\u001B[0;34m(\u001B[0m\u001B[0;34m)\u001B[0m\u001B[0;34m\u001B[0m\u001B[0;34m\u001B[0m\u001B[0m\n",
      "\u001B[0;32m~/miniconda3/envs/soccerapi/lib/python3.7/site-packages/pandas/plotting/_matplotlib/core.py\u001B[0m in \u001B[0;36m_compute_plot_data\u001B[0;34m(self)\u001B[0m\n\u001B[1;32m    416\u001B[0m         \u001B[0;31m# no non-numeric frames or series allowed\u001B[0m\u001B[0;34m\u001B[0m\u001B[0;34m\u001B[0m\u001B[0;34m\u001B[0m\u001B[0m\n\u001B[1;32m    417\u001B[0m         \u001B[0;32mif\u001B[0m \u001B[0mis_empty\u001B[0m\u001B[0;34m:\u001B[0m\u001B[0;34m\u001B[0m\u001B[0;34m\u001B[0m\u001B[0m\n\u001B[0;32m--> 418\u001B[0;31m             \u001B[0;32mraise\u001B[0m \u001B[0mTypeError\u001B[0m\u001B[0;34m(\u001B[0m\u001B[0;34m\"no numeric data to plot\"\u001B[0m\u001B[0;34m)\u001B[0m\u001B[0;34m\u001B[0m\u001B[0;34m\u001B[0m\u001B[0m\n\u001B[0m\u001B[1;32m    419\u001B[0m \u001B[0;34m\u001B[0m\u001B[0m\n\u001B[1;32m    420\u001B[0m         \u001B[0;31m# GH25587: cast ExtensionArray of pandas (IntegerArray, etc.) to\u001B[0m\u001B[0;34m\u001B[0m\u001B[0;34m\u001B[0m\u001B[0;34m\u001B[0m\u001B[0m\n",
      "\u001B[0;31mTypeError\u001B[0m: no numeric data to plot"
     ]
    },
    {
     "data": {
      "text/plain": "<Figure size 432x288 with 1 Axes>",
      "image/png": "[encoded data removed]"
     },
     "metadata": {
      "needs_background": "light"
     },
     "output_type": "display_data"
    }
   ],
   "source": [
    "fig = plt.figure()\n",
    "axes = fig.add_axes([0.1, 0.1, 0.8, 0.8])\n",
    "\n",
    "# homePlot = axes.plot(df[df.index=='time'], df[df.index=='1'], 'b')\n",
    "# drawPlot = axes.plot(df[df.index=='time'], df[df.index=='X'], 'r')\n",
    "# awayPlot = axes.plot(df[df.index=='time'], df[df.index=='2'], 'g')\n",
    "df[df.index=='time'].plot()\n",
    "# print(\"hello\")\n",
    "# print(df)\n",
    "for i in range(50):\n",
    "    odds = api.parseLiveData(url, matchId)\n",
    "    dfNew = pd.DataFrame.from_dict(odds,orient='index')\n",
    "    # dfNew['time'] = dfNew[df.index=='time']+1\n",
    "    # dfNew['1']= dfNew[df.index=='1']+2\n",
    "    df = pd.concat([df, dfNew], axis=1)\n",
    "    print(df)\n",
    "    # print(df)\n",
    "    # fig.canvas.draw()\n",
    "    time.sleep(1)\n",
    "\n",
    "\n"
   ],
   "metadata": {
    "collapsed": false,
    "pycharm": {
     "name": "#%%\n"
    }
   }
  },
  {
   "cell_type": "code",
   "execution_count": 17,
   "outputs": [],
   "source": [],
   "metadata": {
    "collapsed": false,
    "pycharm": {
     "name": "#%%\n"
    }
   }
  }
 ],
 "metadata": {
  "kernelspec": {
   "display_name": "Python 3",
   "language": "python",
   "name": "python3"
  },
  "language_info": {
   "codemirror_mode": {
    "name": "ipython",
    "version": 2
   },
   "file_extension": ".py",
   "mimetype": "text/x-python",
   "name": "python",
   "nbconvert_exporter": "python",
   "pygments_lexer": "ipython2",
   "version": "2.7.6"
  }
 },
 "nbformat": 4,
 "nbformat_minor": 0
}